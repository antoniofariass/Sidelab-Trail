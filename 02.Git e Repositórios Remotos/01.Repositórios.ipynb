{
 "cells": [
  {
   "cell_type": "markdown",
   "metadata": {},
   "source": [
    "# <span style=\"color:blue\">Repositórios</span>"
   ]
  },
  {
   "cell_type": "markdown",
   "metadata": {},
   "source": [
    "#### <span style=\"color:red\">O que são repositórios?</span>\n",
    "\n",
    "Repositório, ou repo, é um diretório onde os arquivos do seu projeto ficam armazenados, você pode armazenar códigos, imagens, áudios, ou qualquer outra coisa relacionada ao projeto no diretório. Pode ser dividido em dois tipos: \n",
    "\n",
    "• Local: <span style=\"color:green\">(Os arquivos são guardados dentro de uma máquina local.)</span>\n",
    "\n",
    "• Remoto: <span style=\"color:green\">(Os arquivos são guardados em uma nuvem, por exemplo o GitHub.)</span>\n"
   ]
  },
  {
   "cell_type": "markdown",
   "metadata": {},
   "source": [
    "#### <span style=\"color:red\">Divisão</span>\n",
    "\n",
    "O repositório é dividido em várias partes, são elas: \n",
    "\n",
    "• OWNER: <span style=\"color:green\">(Nick do dono do repositório.)</span>\n",
    "\n",
    "• REPOSITORY NAME: <span style=\"color:green\">()</span>\n",
    "\n",
    "• DESCRIPTION: <span style=\"color:green\">()</span>\n",
    "\n",
    "• PUBLIC/PRIVATE: <span style=\"color:green\">()</span>\n",
    "\n",
    "• README file: <span style=\"color:green\">()</span>\n",
    "\n",
    "• .gitignore: <span style=\"color:green\">()</span>\n",
    "\n",
    "• BRANCH: <span style=\"color:green\">()</span>\n",
    "\n",
    "\n"
   ]
  },
  {
   "cell_type": "markdown",
   "metadata": {},
   "source": []
  }
 ],
 "metadata": {
  "kernelspec": {
   "display_name": "Python 3.9.13 64-bit (windows store)",
   "language": "python",
   "name": "python3"
  },
  "language_info": {
   "name": "python",
   "version": "3.9.13"
  },
  "orig_nbformat": 4,
  "vscode": {
   "interpreter": {
    "hash": "22088ef271373e2cbf099a2df3479705078d4b70103bf40dba9301d6ee5dcef5"
   }
  }
 },
 "nbformat": 4,
 "nbformat_minor": 2
}
