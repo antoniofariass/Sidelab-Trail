{
 "cells": [
  {
   "cell_type": "markdown",
   "metadata": {},
   "source": [
    "# <span style=\"color:blue\">Gitflow</span>\n",
    "\n",
    "Como falamos de branches, agora é hora de falar do Gitflow, que é uma forma de organizar as branches.\n"
   ]
  },
  {
   "cell_type": "markdown",
   "metadata": {},
   "source": [
    "#### <span style=\"color:red\">Como organizaras branches com o Gitflow?</span>\n",
    "\n",
    "No gitflow temos algumas formas de organizar as branches, sendo separada da seguinte forma:\n",
    "\n",
    "#### <span style=\"color:green\">• Master</span>\n",
    "\n",
    "#### <span style=\"color:green\">• Hotfix</span>\n",
    "\n",
    "#### <span style=\"color:green\">• Release</span>\n",
    "\n",
    "#### <span style=\"color:green\">• Develop</span>\n",
    "\n",
    "#### <span style=\"color:green\">• Feature</span>\n"
   ]
  },
  {
   "cell_type": "markdown",
   "metadata": {},
   "source": [
    "Vamos comentar um pouco sobre elas agora:\n",
    "\n",
    "Na <span style=\"color:green\">Master</span> temos a branche principal, na qual só chegará nela após ser testada e confirmado tudo de possível. \n",
    "\n",
    "Branche <span style=\"color:green\">Hotfix</span> é feita para corrigir alguns erros no projeto.\n",
    "\n",
    "Branche <span style=\"color:green\">Release</span> onde são feito todos os teste após a finalização do desenvolvimento.\n",
    "\n",
    "Branche <span style=\"color:green\">Develop</span> onde será feito todo o projeto e seu desenvolvimento sem afetar a branch Master.\n",
    "\n",
    "E por último, branche <span style=\"color:green\">feature</span> onde são pensados novas funcionalidades para o desenvolvimento.\n",
    "\n",
    "Existem outros tipos de branch, mas essas são as mais importantes.\n",
    "\n"
   ]
  }
 ],
 "metadata": {
  "kernelspec": {
   "display_name": "Python 3.9.13 64-bit (windows store)",
   "language": "python",
   "name": "python3"
  },
  "language_info": {
   "codemirror_mode": {
    "name": "ipython",
    "version": 3
   },
   "file_extension": ".py",
   "mimetype": "text/x-python",
   "name": "python",
   "nbconvert_exporter": "python",
   "pygments_lexer": "ipython3",
   "version": "3.9.13"
  },
  "orig_nbformat": 4,
  "vscode": {
   "interpreter": {
    "hash": "22088ef271373e2cbf099a2df3479705078d4b70103bf40dba9301d6ee5dcef5"
   }
  }
 },
 "nbformat": 4,
 "nbformat_minor": 2
}
