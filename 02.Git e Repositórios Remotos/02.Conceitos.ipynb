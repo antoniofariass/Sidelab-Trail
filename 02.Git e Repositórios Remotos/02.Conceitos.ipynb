{
 "cells": [
  {
   "cell_type": "markdown",
   "metadata": {},
   "source": [
    "# <span style=\"color:blue\">Conceitos Básicos</span>\n",
    "\n",
    "Nesta anotação vamos comentar um pouco sobre os conceitos de alguns termos do Git."
   ]
  },
  {
   "cell_type": "markdown",
   "metadata": {},
   "source": [
    "#### <span style=\"color:red\">Quais termos?</span>\n",
    "\n",
    "##### <span style=\"color:green\">Área de Staging</span>\n",
    "\n",
    "O primeiro é a área de staging, após dá o comando git add (prepara o código para commitar,iremos falar mais na frente) a modificação entra nessa área de espera, na qual poderá acumular várias modificações sem ter que fazer uma por uma\n",
    "\n",
    "##### <span style=\"color:green\">Commit</span>\n",
    "\n",
    "O tão falado commit é nada mais nada menos que um o estado atual daquele projeto, quando você \"commita\" uma mudança, você está atualizando o projeto para o seu ponto atual e nessa mudança você pode escrever o que está sendo modificado (espaço para uma mensagem).\n",
    "\n",
    "##### <span style=\"color:green\">Branch</span>\n",
    "\n",
    "A branch é uma ramificação da branch principal ou até mesmo de outra branch secundária, serve para você resolver algo ou desenvolver algo novo sem afetar o código principal, assim, torna mais seguro o ambiente de desenvolvimento.\n",
    "\n",
    "##### <span style=\"color:green\">Merge</span>\n",
    "\n",
    "Como falamos da branch, o merge serve nada mais para juntar a ramificação, após analisar todas as mudanças feitas na branch e ver que está seguro, é feito o merge para junta-lás.\n",
    "\n",
    "##### <span style=\"color:green\">Pull Request</span>\n",
    "\n",
    "O Pull Request é uma solicitação que você faz ao dono ou grupo dono do projeto para aceitarem uma mudança que você fez no projeto, podendo ser aceita, negada ou comentada. "
   ]
  },
  {
   "cell_type": "markdown",
   "metadata": {},
   "source": []
  }
 ],
 "metadata": {
  "kernelspec": {
   "display_name": "Python 3.9.13 64-bit (windows store)",
   "language": "python",
   "name": "python3"
  },
  "language_info": {
   "name": "python",
   "version": "3.9.13"
  },
  "orig_nbformat": 4,
  "vscode": {
   "interpreter": {
    "hash": "22088ef271373e2cbf099a2df3479705078d4b70103bf40dba9301d6ee5dcef5"
   }
  }
 },
 "nbformat": 4,
 "nbformat_minor": 2
}
