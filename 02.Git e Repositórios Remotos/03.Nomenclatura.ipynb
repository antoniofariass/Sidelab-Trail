{
 "cells": [
  {
   "cell_type": "markdown",
   "metadata": {},
   "source": [
    "# <span style=\"color:blue\">Convenções de Nomenclatura</span>\n",
    "\n",
    "Neste tópico, vamos tratar das nomenclaturas de uma Branch e Commit, não é basicamente colocar qualquer nome e que se virem os outros, precisa ter um padrão e é isso que vamos ver."
   ]
  },
  {
   "cell_type": "markdown",
   "metadata": {},
   "source": [
    "#### <span style=\"color:red\">Branch</span>\n",
    "\n",
    "Na Branch vou citar 4 tipos, são eles:\n",
    "\n",
    "##### <span style=\"color:green\">• bugfix/</span>\n",
    "\n",
    "##### <span style=\"color:green\">• feature/</span>\n",
    "\n",
    "##### <span style=\"color:green\">• hotfix/</span>\n",
    "\n",
    "##### <span style=\"color:green\">• improvement/</span>\n",
    "\n",
    "Agora vamos comentar um pouco sobre cada um deles: "
   ]
  },
  {
   "cell_type": "markdown",
   "metadata": {},
   "source": [
    "##### <span style=\"color:green\">• bugfix/</span>\n",
    "\n",
    "No bugfix, como o próprio nome já diz, iremos corrigir um BUG que tem a prioridade de urgência par ser resolvido.\n",
    "\n",
    "##### <span style=\"color:green\">• feature/</span>\n",
    "\n",
    "O nome já diz também o que é, uma nova funcionalidade que será adicionada ao projeto.\n",
    "\n",
    "##### <span style=\"color:green\">• hotfix/</span>\n",
    "\n",
    "Ás vezes ele pode ser confundido com o bugfix, mas há uma diferença entre eles, no bugfix é um carater de urgência enquanto no hotfix é só alguma mudanã como cor, layout ou algo do tipo que não precisa de urgência.\n",
    "\n",
    "##### <span style=\"color:green\">• improvement/</span>\n",
    "\n",
    "E o último, não menos importante, é o improvement que o próprio nome já diz também, será feito uma melhoria, seja de performance, de escrita, de layout, etc.\n"
   ]
  },
  {
   "cell_type": "markdown",
   "metadata": {},
   "source": [
    "#### <span style=\"color:red\">Commit</span>\n",
    "\n",
    "Agora que falamos da Branch, vamos falar sobre os commits que também possuem um padrão que devemos seguir: \n",
    "\n",
    "<span style=\"color:blue\">\n",
    "\n",
    "tipo [escopo opcional]: <descrição>\n",
    "\n",
    "[corpo opcional]\n",
    "\n",
    "[rodapé opcional] </span>"
   ]
  },
  {
   "cell_type": "markdown",
   "metadata": {},
   "source": [
    "No campo tipo temos as seguintes opções mais utilizadas:\n",
    "\n",
    "##### <span style=\"color:red\">fix:</span> \n",
    "\n",
    "Um commit do tipo fix soluciona um problema na sua base de código (isso se correlaciona com PATCH do versionamento semântico).\n",
    "\n",
    "##### <span style=\"color:red\">feat:</span> \n",
    "\n",
    "Um commit do tipo feat inclui um novo recurso na sua base de código (isso se correlaciona com MINOR do versionamento semântico).\n",
    "\n",
    "\n",
    "##### <span style=\"color:red\">BREAKING CHANGE:</span> \n",
    "\n",
    "Um commit que contém o texto BREAKING CHANGE:, no começo do texto do corpo opcional ou do rodapé opcional, inclui uma modificação que quebra a compatibilidade da API (isso se correlaciona com MAJOR do versionamento semântico). Uma BREAKING CHANGE pode fazer parte de commits de qualquer tipo."
   ]
  },
  {
   "cell_type": "markdown",
   "metadata": {},
   "source": [
    "#### <span style=\"color:red\">Exemplo de commit:</span>\n",
    "\n",
    "feat(lang): adiciona tradução para português brasileiro."
   ]
  },
  {
   "cell_type": "markdown",
   "metadata": {},
   "source": []
  }
 ],
 "metadata": {
  "kernelspec": {
   "display_name": "Python 3.9.13 64-bit (windows store)",
   "language": "python",
   "name": "python3"
  },
  "language_info": {
   "name": "python",
   "version": "3.9.13"
  },
  "orig_nbformat": 4,
  "vscode": {
   "interpreter": {
    "hash": "22088ef271373e2cbf099a2df3479705078d4b70103bf40dba9301d6ee5dcef5"
   }
  }
 },
 "nbformat": 4,
 "nbformat_minor": 2
}
