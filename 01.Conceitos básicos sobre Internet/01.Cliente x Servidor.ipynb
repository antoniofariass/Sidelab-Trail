{
 "cells": [
  {
   "cell_type": "markdown",
   "metadata": {},
   "source": [
    "Antonio Farias - Sidelab "
   ]
  },
  {
   "cell_type": "markdown",
   "metadata": {},
   "source": [
    "# <span style=\"color:blue\">Cliente e Servidor</span>"
   ]
  },
  {
   "cell_type": "markdown",
   "metadata": {},
   "source": [
    "#### <span style=\"color:red\">O que é esse modelo?</span>\n",
    "\n",
    "Basicamente no modelo Cliente-Servidor, temos uma rede baseada em requisições e respostas. \n"
   ]
  },
  {
   "cell_type": "markdown",
   "metadata": {},
   "source": [
    "#### <span style=\"color:red\">Mas o que isso quer dizer?</span>\n",
    "\n",
    "Quando entramos em um site e fazemos alguma ação no mesmo como cliente, estamos fazendo uma requisição ao servidor que irá retornar para nós uma resposta com o serviço que foi solicitado."
   ]
  },
  {
   "cell_type": "markdown",
   "metadata": {},
   "source": [
    "#### <span style=\"color:red\">Principais Componentes</span>\n",
    "\n",
    "-Cliente <span style=\"color:green\">(Realiza as requisições de acesso aos serviços ou recursos.)</span>\n",
    "\n",
    "-Servidor <span style=\"color:green\">(Fornece o serviço ou o recurso designado na rede.)</span>\n",
    "\n",
    "-Rede <span style=\"color:green\">(Faz a comunicação entre o Cliente e o Servidor)</span>"
   ]
  }
 ],
 "metadata": {
  "kernelspec": {
   "display_name": "Python 3.9.13 64-bit (windows store)",
   "language": "python",
   "name": "python3"
  },
  "language_info": {
   "name": "python",
   "version": "3.9.13"
  },
  "orig_nbformat": 4,
  "vscode": {
   "interpreter": {
    "hash": "22088ef271373e2cbf099a2df3479705078d4b70103bf40dba9301d6ee5dcef5"
   }
  }
 },
 "nbformat": 4,
 "nbformat_minor": 2
}
