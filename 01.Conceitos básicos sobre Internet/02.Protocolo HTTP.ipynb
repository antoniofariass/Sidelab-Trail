{
 "cells": [
  {
   "cell_type": "markdown",
   "metadata": {},
   "source": [
    "### <span style=\"color:Blue\"> Protocolo HTTP</span>"
   ]
  },
  {
   "cell_type": "markdown",
   "metadata": {},
   "source": [
    "##### <span style=\"color:red\">O que é o protocolo HTTP?</span>\n",
    "\n",
    "<span style=\"color:green\">Hypertext Transfer Protocol</span> ou <span style=\"color:green\">Protocolo de Transferência de Hipertexto</span> é nada mais que um protocolo na qual faz uma busca de recursos que foram solicitados pelo Cliente."
   ]
  },
  {
   "cell_type": "markdown",
   "metadata": {},
   "source": [
    "##### <span style=\"color:red\">Mas o que isso quer dizer?</span>\n",
    "\n",
    "O protocolo HTTP funciona na camada de aplicação (ex.: servidores web e navegadores), na modalidade de Request/Response, como tratado no tópico anterior, é um modelo de requisições e respostas feitos pelo cliente e servidor."
   ]
  },
  {
   "cell_type": "markdown",
   "metadata": {},
   "source": [
    "#### <span style=\"color:red\">Métodos de Requisições</span>\n",
    "\n",
    "Existem vários métodos de requisição no HTTP, vamos comentar sobre os mais utilizados, são eles: \n",
    "\n",
    "• <span style=\"color:green\">GET:</span> Requisita dados de um recurso específico.\n",
    "\n",
    "•<span style=\"color:green\"> POST: </span> Envia dados para um server com o intuito de criar/atualizar um recurso.\n",
    "\n",
    "•<span style=\"color:green\"> PUT: </span> Substitui todas as representações atuais pelos dados da requisição.\n",
    "\n",
    "•<span style=\"color:green\"> HEAD: </span> O mesmo que o GET, requisição de dados, porém sem o corpo responsivo.\n",
    "\n",
    "•<span style=\"color:green\"> DELETE: </span> Deleta um recurso específico.\n",
    "\n",
    "•<span style=\"color:green\"> PATCH: </span> Aplicar modificaçõs parciais a um recurso.\n",
    "\n",
    "•<span style=\"color:green\"> OPTIONS: </span> Método para descrever as opçoes de comunicação do recurso destinado.\n",
    "\n",
    "•<span style=\"color:green\">CONNECT: </span> Criar uma ponte para o servidor identificado como destino.\n",
    "\n",
    "•<span style=\"color:green\">TRACE: </span> Executa um teste junto com o caminho para o recurso de destino.\n",
    "\n"
   ]
  },
  {
   "cell_type": "markdown",
   "metadata": {},
   "source": [
    "#### <span style=\"color:red\">Tipos de status HTTP: </span>\n",
    "\n",
    "O protocolo HTTP possui alguns códigos de status, são eles:\n",
    "\n",
    "• <span style=\"color:green\">1XX</span> - Informação\n",
    "\n",
    "• <span style=\"color:green\">2XX</span> - Sucesso\n",
    "\n",
    "• <span style=\"color:green\">3XX</span> - Redirecionamento\n",
    "\n",
    "• <span style=\"color:green\">4XX</span> - Erro no Cliente\n",
    "\n",
    "• <span style=\"color:green\">5XX</span> - Erro no servidor"
   ]
  },
  {
   "cell_type": "markdown",
   "metadata": {},
   "source": []
  }
 ],
 "metadata": {
  "kernelspec": {
   "display_name": "Python 3.9.13 64-bit (windows store)",
   "language": "python",
   "name": "python3"
  },
  "language_info": {
   "name": "python",
   "version": "3.9.13"
  },
  "orig_nbformat": 4,
  "vscode": {
   "interpreter": {
    "hash": "22088ef271373e2cbf099a2df3479705078d4b70103bf40dba9301d6ee5dcef5"
   }
  }
 },
 "nbformat": 4,
 "nbformat_minor": 2
}
