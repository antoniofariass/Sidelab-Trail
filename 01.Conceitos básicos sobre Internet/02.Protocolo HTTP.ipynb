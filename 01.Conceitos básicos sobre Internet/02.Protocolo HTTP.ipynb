{
 "cells": [
  {
   "cell_type": "markdown",
   "metadata": {},
   "source": [
    "### <span style=\"color:Blue\"> Protocolo HTTP</span>"
   ]
  },
  {
   "cell_type": "markdown",
   "metadata": {},
   "source": [
    "##### <span style=\"color:red\">O que é o protocolo HTTP?</span>\n",
    "\n",
    "<span style=\"color:green\">Hypertext Transfer Protocol</span> ou <span style=\"color:green\">Protocolo de Transferência de Hipertexto</span> é nada mais que um protocolo na qual faz uma busca de recursos que foram solicitados pelo Cliente."
   ]
  },
  {
   "cell_type": "markdown",
   "metadata": {},
   "source": [
    "##### <span style=\"color:red\">Mas o que isso quer dizer?</span>\n",
    "\n",
    "O protocolo HTTP funciona na camada de aplicação (ex.: servidores web e navegadores), na modalidade de Request/Response, como tratado no tópico anterior, é um modelo de requisições e respostas feitos pelo cliente e servidor."
   ]
  },
  {
   "cell_type": "markdown",
   "metadata": {},
   "source": [
    "#### <span style=\"color:red\">Métodos de Requisições</span>\n",
    "\n",
    "Existem vários métodos de requisição no HTTP, vamos comentar sobre os mais utilizados, são eles: \n",
    "\n",
    "• <span style=\"color:green\">GET:</span> Requisita dados de um recurso específico.\n",
    "\n",
    "•<span style=\"color:green\"> POST: </span> Envia dados para um server com o intuito de criar/atualizar um recurso.\n",
    "\n",
    "•<span style=\"color:green\"> PUT: </span> Substitui todas as representações atuais pelos dados da requisição.\n",
    "\n",
    "•<span style=\"color:green\"> HEAD: </span> O mesmo que o GET, requisição de dados, porém sem o corpo responsivo.\n",
    "\n",
    "•<span style=\"color:green\"> DELETE: </span> Deleta um recurso específico.\n",
    "\n",
    "•<span style=\"color:green\"> PATCH: </span> Aplicar modificaçõs parciais a um recurso.\n",
    "\n",
    "•<span style=\"color:green\"> OPTIONS: </span> Método para descrever as opçoes de comunicação do recurso destinado.\n",
    "\n",
    "•<span style=\"color:green\">CONNECT: </span> Criar uma ponte para o servidor identificado como destino.\n",
    "\n",
    "•<span style=\"color:green\">TRACE: </span> Executa um teste junto com o caminho para o recurso de destino.\n",
    "\n"
   ]
  },
  {
   "cell_type": "markdown",
   "metadata": {},
   "source": [
    "#### <span style=\"color:red\">Tipos de status HTTP: </span>\n",
    "\n",
    "O protocolo HTTP possui alguns códigos de status, são eles:\n",
    "\n",
    "• <span style=\"color:green\">1XX</span> - Informação\n",
    "\n",
    "• <span style=\"color:green\">2XX</span> - Sucesso\n",
    "\n",
    "• <span style=\"color:green\">3XX</span> - Redirecionamento\n",
    "\n",
    "• <span style=\"color:green\">4XX</span> - Erro no Cliente\n",
    "\n",
    "• <span style=\"color:green\">5XX</span> - Erro no servidor"
   ]
  },
  {
   "cell_type": "code",
   "execution_count": 10,
   "metadata": {},
   "outputs": [
    {
     "name": "stdout",
     "output_type": "stream",
     "text": [
      "200\n"
     ]
    }
   ],
   "source": [
    "import requests\n",
    "\n",
    "resposta = requests.get('https://api.github.com')\n",
    "\n",
    "print(resposta.status_code)"
   ]
  },
  {
   "cell_type": "code",
   "execution_count": 3,
   "metadata": {},
   "outputs": [
    {
     "name": "stdout",
     "output_type": "stream",
     "text": [
      "404\n"
     ]
    }
   ],
   "source": [
    "resposta = requests.get('https://api.github.com/4')\n",
    "\n",
    "print(resposta.status_code)"
   ]
  },
  {
   "cell_type": "code",
   "execution_count": 8,
   "metadata": {},
   "outputs": [
    {
     "name": "stdout",
     "output_type": "stream",
     "text": [
      "https://api.github.com/user\n"
     ]
    }
   ],
   "source": [
    "resposta = requests.get('https://api.github.com')\n",
    "\n",
    "dados = resposta.json()\n",
    "\n",
    "print(dados['current_user_url'])"
   ]
  },
  {
   "cell_type": "markdown",
   "metadata": {},
   "source": [
    "## Requests Params, Body e Headers "
   ]
  },
  {
   "cell_type": "markdown",
   "metadata": {},
   "source": [
    "### Params\n",
    "\n",
    "http://localhost:7071/api/getCityWeather?name=Pedro \n",
    "\n",
    "Depois da url, começando apos \"?\". temos o requests com Params"
   ]
  },
  {
   "cell_type": "markdown",
   "metadata": {},
   "source": [
    "### Exemplo:"
   ]
  },
  {
   "cell_type": "code",
   "execution_count": 3,
   "metadata": {},
   "outputs": [
    {
     "name": "stdout",
     "output_type": "stream",
     "text": [
      "https://httpbin.org/get?key1=value1&key2=value2\n"
     ]
    }
   ],
   "source": [
    "payload = {'key1': 'value1', 'key2': 'value2'}\n",
    "r = requests.get('https://httpbin.org/get', params=payload)\n",
    "\n",
    "print(r.url)"
   ]
  },
  {
   "cell_type": "markdown",
   "metadata": {},
   "source": [
    "### Body"
   ]
  },
  {
   "cell_type": "markdown",
   "metadata": {},
   "source": [
    "No body vai um data ou um jsonData na qual fara uma requisição baseada naquilo enviado.\n",
    "\n",
    "\n",
    "### Exemplo:"
   ]
  },
  {
   "cell_type": "code",
   "execution_count": 23,
   "metadata": {},
   "outputs": [
    {
     "name": "stdout",
     "output_type": "stream",
     "text": [
      "Status Code 200\n",
      "JSON Response  {'args': {}, 'data': '{\"id\": 1001, \"name\": \"geek\", \"passion\": \"coding\"}', 'files': {}, 'form': {}, 'headers': {'Accept': '*/*', 'Accept-Encoding': 'gzip, deflate', 'Content-Length': '49', 'Content-Type': 'application/json', 'Host': 'httpbin.org', 'User-Agent': 'python-requests/2.26.0', 'X-Amzn-Trace-Id': 'Root=1-637670fe-18c349942b6549f101cc304d'}, 'json': {'id': 1001, 'name': 'geek', 'passion': 'coding'}, 'origin': '177.37.145.200', 'url': 'https://httpbin.org/post'}\n"
     ]
    },
    {
     "data": {
      "text/plain": [
       "' print(response.headers)\\nprint(response.json()) '"
      ]
     },
     "execution_count": 23,
     "metadata": {},
     "output_type": "execute_result"
    }
   ],
   "source": [
    "import requests\n",
    " \n",
    "url = \"https://httpbin.org/post\"\n",
    " \n",
    "data = {\n",
    "    \"id\": 1001,\n",
    "    \"name\": \"geek\",\n",
    "    \"passion\": \"coding\",\n",
    "}\n",
    " \n",
    "response = requests.post(url, json=data)\n",
    " \n",
    "print(\"Status Code\", response.status_code)\n",
    "print(\"JSON Response \", response.json())\n",
    "\n"
   ]
  },
  {
   "cell_type": "markdown",
   "metadata": {},
   "source": [
    "### Header"
   ]
  },
  {
   "cell_type": "code",
   "execution_count": 27,
   "metadata": {},
   "outputs": [
    {
     "name": "stdout",
     "output_type": "stream",
     "text": [
      "{'Server': 'GitHub.com', 'Date': 'Thu, 17 Nov 2022 17:39:20 GMT', 'Content-Type': 'application/json; charset=utf-8', 'X-GitHub-Media-Type': 'github.v3; format=json', 'Access-Control-Expose-Headers': 'ETag, Link, Location, Retry-After, X-GitHub-OTP, X-RateLimit-Limit, X-RateLimit-Remaining, X-RateLimit-Used, X-RateLimit-Resource, X-RateLimit-Reset, X-OAuth-Scopes, X-Accepted-OAuth-Scopes, X-Poll-Interval, X-GitHub-Media-Type, X-GitHub-SSO, X-GitHub-Request-Id, Deprecation, Sunset', 'Access-Control-Allow-Origin': '*', 'Strict-Transport-Security': 'max-age=31536000; includeSubdomains; preload', 'X-Frame-Options': 'deny', 'X-Content-Type-Options': 'nosniff', 'X-XSS-Protection': '0', 'Referrer-Policy': 'origin-when-cross-origin, strict-origin-when-cross-origin', 'Content-Security-Policy': \"default-src 'none'\", 'Vary': 'Accept-Encoding, Accept, X-Requested-With', 'Content-Encoding': 'gzip', 'X-RateLimit-Limit': '60', 'X-RateLimit-Remaining': '52', 'X-RateLimit-Reset': '1668709824', 'X-RateLimit-Resource': 'core', 'X-RateLimit-Used': '8', 'Content-Length': '91', 'X-GitHub-Request-Id': 'EFC4:55A0:11704E:132E3E:637671D6'}\n"
     ]
    }
   ],
   "source": [
    "url = 'https://api.github.com/some/endpoint'\n",
    "headers = {'user-agent': 'my-app/0.0.1'}\n",
    "\n",
    "r = requests.get(url, headers=headers)\n",
    "\n",
    "print(r.headers)"
   ]
  },
  {
   "cell_type": "code",
   "execution_count": null,
   "metadata": {},
   "outputs": [],
   "source": [
    "#Exemplos de cada um no python:\n",
    "\n",
    "exemplo_body = req_body.get('exemplo_body')\n",
    "exemplo_header = req.headers.get('exemplo_header')\n",
    "exemplo_params = req.params.get('exemplo_params')"
   ]
  }
 ],
 "metadata": {
  "kernelspec": {
   "display_name": "Python 3.9.13 64-bit (windows store)",
   "language": "python",
   "name": "python3"
  },
  "language_info": {
   "codemirror_mode": {
    "name": "ipython",
    "version": 3
   },
   "file_extension": ".py",
   "mimetype": "text/x-python",
   "name": "python",
   "nbconvert_exporter": "python",
   "pygments_lexer": "ipython3",
   "version": "3.9.13"
  },
  "orig_nbformat": 4,
  "vscode": {
   "interpreter": {
    "hash": "22088ef271373e2cbf099a2df3479705078d4b70103bf40dba9301d6ee5dcef5"
   }
  }
 },
 "nbformat": 4,
 "nbformat_minor": 2
}
