{
 "cells": [
  {
   "cell_type": "markdown",
   "metadata": {},
   "source": [
    "### <span style=\"color:Blue\"> Protocolo HTTP</span>"
   ]
  },
  {
   "cell_type": "markdown",
   "metadata": {},
   "source": [
    "##### <span style=\"color:red\">O que é o protocolo HTTP?</span>\n",
    "\n",
    "<span style=\"color:green\">Hypertext Transfer Protocol</span> ou <span style=\"color:green\">Protocolo de Transferência de Hipertexto</span> é nada mais que um protocolo na qual faz uma busca de recursos que foram solicitados pelo Cliente."
   ]
  },
  {
   "cell_type": "markdown",
   "metadata": {},
   "source": [
    "##### <span style=\"color:red\">Mas o que isso quer dizer?</span>\n",
    "\n",
    "Que o protocolo HTTP funciona na camada de aplicação, na modalidade de Request/Response, como tratado no tópico anterior, é um modelo de requisições e respostas feitos pelo cliente e servidor."
   ]
  },
  {
   "cell_type": "markdown",
   "metadata": {},
   "source": []
  }
 ],
 "metadata": {
  "kernelspec": {
   "display_name": "Python 3.9.13 64-bit (windows store)",
   "language": "python",
   "name": "python3"
  },
  "language_info": {
   "name": "python",
   "version": "3.9.13"
  },
  "orig_nbformat": 4,
  "vscode": {
   "interpreter": {
    "hash": "22088ef271373e2cbf099a2df3479705078d4b70103bf40dba9301d6ee5dcef5"
   }
  }
 },
 "nbformat": 4,
 "nbformat_minor": 2
}
