{
 "cells": [
  {
   "cell_type": "markdown",
   "metadata": {},
   "source": [
    "## <span style=\"color:blue\">Programação Orientada a Objetos</span>"
   ]
  },
  {
   "cell_type": "markdown",
   "metadata": {},
   "source": [
    "#### <span style=\"color:red\">O que é a POO?</span>\n",
    "\n",
    "POO ou Programação Orientada a Objetos é nada mais que uma difusão de uma forma de programação, na qual a reutilização de código ficou muito conhecida. Hoje comparada a Programação Estruturada, perde em alguns pontos, entretanto ainda é muito utilizada no nosso dia a dia\n"
   ]
  },
  {
   "cell_type": "markdown",
   "metadata": {},
   "source": [
    "#### <span style=\"color:red\">Pilares</span>\n",
    "\n",
    "A POO possui 4 pilares, iremos comentar brevemente em palavras sobre cada um deles:\n",
    "\n",
    "##### <span style=\"color:green\">• Abstração:</span> Basicamente abstrair do mundo real para dentro do nosso programa, pensando em como esse objeto irá se comportar.\n",
    "\n",
    "##### <span style=\"color:green\">• Encapsulamento: </span> Forma de garantir uma segurança a nossa aplicação, separando aquilo que ficará visível ao usuário e aquilo que não tera acesso do mesmo.\n",
    "\n",
    "##### <span style=\"color:green\">• Herança: </span> Uma das maiores vantagens da POO, a herança, nada mais que a reutilização de um código que otimizará a produção da aplicação em tempo e linhas de código.\n",
    "\n",
    "##### <span style=\"color:green\">• Polimorfismo: </span> Por último e não menos importante, o polimorfismo faz com o que o objeto se adapte no que precise para aplicação no código."
   ]
  },
  {
   "cell_type": "markdown",
   "metadata": {},
   "source": [
    "#### <span style=\"color:red\">Principais vantagens da POO</span>\n",
    "\n",
    "A programação orientada a objetos traz uma ideia muito interessante: a representação de cada elemento em termos de um objeto, ou classe. Esse tipo de representação procura aproximar o sistema que está sendo criado ao que é observado no mundo real, e um objeto contém características e ações, assim como vemos na realidade.\n",
    "\n",
    "A reutilização de código ajuda na leitura e manutenção do código, como fazemos uma abstração do mundo real, tudo fica mais simples de entender."
   ]
  }
 ],
 "metadata": {
  "kernelspec": {
   "display_name": "Python 3.9.13 64-bit (windows store)",
   "language": "python",
   "name": "python3"
  },
  "language_info": {
   "name": "python",
   "version": "3.9.13"
  },
  "orig_nbformat": 4,
  "vscode": {
   "interpreter": {
    "hash": "22088ef271373e2cbf099a2df3479705078d4b70103bf40dba9301d6ee5dcef5"
   }
  }
 },
 "nbformat": 4,
 "nbformat_minor": 2
}
